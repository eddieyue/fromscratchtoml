{
 "cells": [
  {
   "cell_type": "code",
   "execution_count": 1,
   "metadata": {},
   "outputs": [],
   "source": [
    "import fromscratchtoml\n",
    "fromscratchtoml.use(\"numpy\")\n",
    "# fromscratchtoml.use(\"cupy\")\n",
    "\n",
    "from fromscratchtoml.neural_network.models import Sequential\n",
    "from fromscratchtoml.neural_network.optimizers import StochasticGradientDescent, Adagrad, RMSprop, Adam\n",
    "from fromscratchtoml.neural_network.layers import Dense, Activation, Dropout\n",
    "from fromscratchtoml.neural_network.regularizers import l1, l2, l1_l2\n",
    "\n",
    "import numpy as np\n",
    "# import cupy as np\n",
    "\n",
    "from sklearn.model_selection import train_test_split\n",
    "\n",
    "from fromscratchtoml.toolbox.random import Distribution\n",
    "from fromscratchtoml.toolbox.preprocess import to_onehot\n"
   ]
  },
  {
   "cell_type": "code",
   "execution_count": 2,
   "metadata": {},
   "outputs": [],
   "source": [
    "from sklearn import datasets\n",
    "from sklearn.utils import shuffle\n",
    "\n",
    "from fromscratchtoml.toolbox import binary_visualize\n",
    "\n",
    "%matplotlib inline"
   ]
  },
  {
   "cell_type": "markdown",
   "metadata": {},
   "source": [
    "# Neural Networks"
   ]
  },
  {
   "cell_type": "markdown",
   "metadata": {},
   "source": [
    "## MNIST Digit Classification"
   ]
  },
  {
   "cell_type": "code",
   "execution_count": 3,
   "metadata": {},
   "outputs": [
    {
     "name": "stdout",
     "output_type": "stream",
     "text": [
      "70000\n"
     ]
    }
   ],
   "source": [
    "from sklearn.datasets import fetch_mldata\n",
    "mnist = fetch_mldata('MNIST original', data_home=\".\")\n",
    "print(len(mnist.data))\n",
    "X2 = mnist.data/256.\n",
    "mnist.target.__class__\n",
    "y2 = to_onehot(mnist.target)"
   ]
  },
  {
   "cell_type": "code",
   "execution_count": 4,
   "metadata": {},
   "outputs": [
    {
     "data": {
      "text/plain": [
       "((60000, 784), (60000, 10), dtype('float64'))"
      ]
     },
     "execution_count": 4,
     "metadata": {},
     "output_type": "execute_result"
    }
   ],
   "source": [
    "X_train2, X_test2, y_train2, y_test2 = train_test_split(X2, y2, test_size=10000, random_state=42)\n",
    "X_train2.shape, y_train2.shape, X_train2.dtype"
   ]
  },
  {
   "cell_type": "code",
   "execution_count": 5,
   "metadata": {},
   "outputs": [],
   "source": [
    "model2 = Sequential(verbose=1,vis_loss=1)\n",
    "# model2.add(Dropout(0.2, seed=0))\n",
    "\n",
    "model2.add(Dense(30, input_dim=784, seed=1))\n",
    "model2.add(Activation('relu'))\n",
    "# model2.add(Dropout(0.2, seed=2))\n",
    "\n",
    "# model2.add(Dense(30))\n",
    "# model2.add(Activation('relu'))\n",
    "# model2.add(Dropout(0.2, seed=4))\n",
    "\n",
    "model2.add(Dense(10, seed=2))\n",
    "# model2.add(Activation('softmax'))\n",
    "# model2.add(Activation('sigmoid'))\n",
    "\n",
    "opt = StochasticGradientDescent(learning_rate=0.05, momentum=0., nesterov=0)\n",
    "# opt = Adagrad(learning_rate=0.2)\n",
    "# opt = RMSprop(learning_rate=0.001, decay=0.9)\n",
    "# opt = Adam(learning_rate=0.001, bias_fix=0)\n",
    "model2.compile(optimizer=opt, loss=\"mean_squared_error\")"
   ]
  },
  {
   "cell_type": "code",
   "execution_count": 6,
   "metadata": {
    "scrolled": true
   },
   "outputs": [
    {
     "name": "stdout",
     "output_type": "stream",
     "text": [
      "\n",
      "epoch: 1/10  loss: 0.257  acc1: 76.14 \n",
      "[████                                    ] 10% \n",
      "epoch: 2/10  loss: 0.214  acc1: 83.17 \n",
      "[████████                                ] 20% \n",
      "epoch: 3/10  loss: 0.190  acc1: 85.97 \n",
      "[████████████                            ] 30% \n",
      "epoch: 4/10  loss: 0.173  acc1: 87.42 \n",
      "[████████████████                        ] 40% \n",
      "epoch: 5/10  loss: 0.159  acc1: 88.35 \n",
      "[████████████████████                    ] 50% \n",
      "epoch: 6/10  loss: 0.150  acc1: 88.97 \n",
      "[████████████████████████                ] 60% \n",
      "epoch: 7/10  loss: 0.142  acc1: 89.37 \n",
      "[████████████████████████████            ] 70% \n",
      "epoch: 8/10  loss: 0.136  acc1: 89.63 \n",
      "[████████████████████████████████        ] 80% \n",
      "epoch: 9/10  loss: 0.131  acc1: 89.85 \n",
      "[████████████████████████████████████    ] 90% \n",
      "epoch: 10/10  loss: 0.126  acc1: 90.02 \n",
      "[████████████████████████████████████████] 100% "
     ]
    },
    {
     "data": {
      "image/png": "[encoded data removed]",
      "text/plain": [
       "<Figure size 432x288 with 1 Axes>"
      ]
     },
     "metadata": {},
     "output_type": "display_data"
    },
    {
     "name": "stdout",
     "output_type": "stream",
     "text": [
      "CPU times: user 40.8 s, sys: 18.2 s, total: 59 s\n",
      "Wall time: 7.85 s\n"
     ]
    }
   ],
   "source": [
    "%time model2.fit(X_train2, y_train2, batch_size=256, epochs=10)"
   ]
  },
  {
   "cell_type": "code",
   "execution_count": 7,
   "metadata": {},
   "outputs": [
    {
     "data": {
      "text/plain": [
       "89.98"
      ]
     },
     "execution_count": 7,
     "metadata": {},
     "output_type": "execute_result"
    }
   ],
   "source": [
    "model2.accuracy(X_test2, y_test2)"
   ]
  },
  {
   "cell_type": "code",
   "execution_count": 8,
   "metadata": {},
   "outputs": [
    {
     "ename": "NameError",
     "evalue": "name 'p90' is not defined",
     "output_type": "error",
     "traceback": [
      "\u001b[0;31m---------------------------------------------------------------------------\u001b[0m",
      "\u001b[0;31mNameError\u001b[0m                                 Traceback (most recent call last)",
      "\u001b[0;32m<ipython-input-8-73678fbfbb48>\u001b[0m in \u001b[0;36m<module>\u001b[0;34m()\u001b[0m\n\u001b[0;32m----> 1\u001b[0;31m \u001b[0mp90\u001b[0m\u001b[0;34m\u001b[0m\u001b[0m\n\u001b[0m",
      "\u001b[0;31mNameError\u001b[0m: name 'p90' is not defined"
     ]
    }
   ],
   "source": [
    "p90"
   ]
  },
  {
   "cell_type": "markdown",
   "metadata": {},
   "source": [
    "## Regression"
   ]
  },
  {
   "cell_type": "code",
   "execution_count": null,
   "metadata": {},
   "outputs": [],
   "source": [
    "x_train = np.random.rand(100)\n",
    "x_train = np.expand_dims(x_train, axis=1)\n",
    "y_train=x_train**4\n",
    "\n",
    "x_test=np.linspace(0,1,9)\n",
    "y_test=x_test**4"
   ]
  },
  {
   "cell_type": "code",
   "execution_count": null,
   "metadata": {},
   "outputs": [],
   "source": [
    "model3 = Sequential(verbose=0, vis_loss=1)\n",
    "model3.add(Dense(units=100, input_dim=1, seed=10))\n",
    "model3.add(Activation('relu'))\n",
    "model3.add(Dense(units=45, seed=2))\n",
    "model3.add(Activation('relu'))\n",
    "model3.add(Dense(units=1, seed=2))\n",
    "\n",
    "sgd = StochasticGradientDescent(learning_rate=0.05)\n",
    "model3.compile(optimizer=sgd, loss=\"mean_squared_error\", accuracy_metric=\"regression\")\n",
    "\n",
    "%time model3.fit(x_train, y_train, epochs=1000)"
   ]
  },
  {
   "cell_type": "code",
   "execution_count": null,
   "metadata": {},
   "outputs": [],
   "source": [
    "y_pred = model3.predict(x_test, prob=1)\n",
    "y_pred[:5]"
   ]
  },
  {
   "cell_type": "code",
   "execution_count": null,
   "metadata": {},
   "outputs": [],
   "source": [
    "y_test[:5]"
   ]
  },
  {
   "cell_type": "markdown",
   "metadata": {},
   "source": [
    "## Radial"
   ]
  },
  {
   "cell_type": "code",
   "execution_count": null,
   "metadata": {},
   "outputs": [],
   "source": [
    "X11 = Distribution.radial_binary(pts=300,\n",
    "               mean=[0, 0],\n",
    "               st=1,\n",
    "               ed=2, seed=20)\n",
    "X22 = Distribution.radial_binary(pts=300,\n",
    "               mean=[0, 0],\n",
    "               st=4,\n",
    "               ed=5, seed=20)\n",
    "\n",
    "Y11 = np.ones(X11.shape[0])\n",
    "Y22 = np.zeros(X11.shape[0])\n",
    "\n",
    "X5 = np.vstack((X11, X22))\n",
    "y5 = np.hstack((Y11, Y22))"
   ]
  },
  {
   "cell_type": "code",
   "execution_count": null,
   "metadata": {},
   "outputs": [],
   "source": []
  },
  {
   "cell_type": "code",
   "execution_count": null,
   "metadata": {},
   "outputs": [],
   "source": [
    "y5 = to_onehot(y5)"
   ]
  },
  {
   "cell_type": "code",
   "execution_count": null,
   "metadata": {},
   "outputs": [],
   "source": [
    "X_train5, X_test5, y_train5, y_test5 = train_test_split(X5, y5, test_size=50, random_state=42)"
   ]
  },
  {
   "cell_type": "code",
   "execution_count": null,
   "metadata": {},
   "outputs": [],
   "source": [
    "y_train5.shape"
   ]
  },
  {
   "cell_type": "code",
   "execution_count": null,
   "metadata": {},
   "outputs": [],
   "source": [
    "model5 = Sequential(verbose=1, vis_each_epoch=True)\n",
    "model5.add(Dense(10, input_dim=2, seed=1))\n",
    "model5.add(Activation('sigmoid'))\n",
    "model5.add(Dense(2, seed=2))\n",
    "model5.add(Activation('sigmoid'))\n",
    "model5.add(Dense(2, seed=3))\n",
    "model5.add(Activation('sigmoid'))\n",
    "sgd = StochasticGradientDescent(learning_rate=0.9)\n",
    "model5.compile(optimizer=sgd, loss=\"mean_squared_error\")"
   ]
  },
  {
   "cell_type": "code",
   "execution_count": null,
   "metadata": {},
   "outputs": [],
   "source": [
    "X_train5[0]"
   ]
  },
  {
   "cell_type": "code",
   "execution_count": null,
   "metadata": {
    "scrolled": true
   },
   "outputs": [],
   "source": [
    "%time model5.fit(X_train5, y_train5, batch_size=4, epochs=10)"
   ]
  },
  {
   "cell_type": "code",
   "execution_count": null,
   "metadata": {},
   "outputs": [],
   "source": [
    "binary_visualize(X_test5, clf=model5, draw_contour=True)"
   ]
  },
  {
   "cell_type": "code",
   "execution_count": null,
   "metadata": {},
   "outputs": [],
   "source": []
  },
  {
   "cell_type": "code",
   "execution_count": null,
   "metadata": {},
   "outputs": [],
   "source": []
  }
 ],
 "metadata": {
  "kernelspec": {
   "display_name": "fs2ml",
   "language": "python",
   "name": "env"
  },
  "language_info": {
   "codemirror_mode": {
    "name": "ipython",
    "version": 3
   },
   "file_extension": ".py",
   "mimetype": "text/x-python",
   "name": "python",
   "nbconvert_exporter": "python",
   "pygments_lexer": "ipython3",
   "version": "3.6.5"
  }
 },
 "nbformat": 4,
 "nbformat_minor": 2
}
