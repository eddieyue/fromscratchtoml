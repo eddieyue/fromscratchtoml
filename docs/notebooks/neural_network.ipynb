{
 "cells": [
  {
   "cell_type": "code",
   "execution_count": 1,
   "metadata": {},
   "outputs": [],
   "source": [
    "import fromscratchtoml\n",
    "fromscratchtoml.use(\"numpy\")\n",
    "# fromscratchtoml.use(\"cupy\")\n",
    "\n",
    "from fromscratchtoml.neural_network.models import Sequential\n",
    "from fromscratchtoml.neural_network.optimizers import StochasticGradientDescent, Adagrad, RMSprop, Adam\n",
    "from fromscratchtoml.neural_network.layers import Dense, Activation, Dropout\n",
    "from fromscratchtoml.neural_network.regularizers import l1, l2, l1_l2\n",
    "\n",
    "import numpy as np\n",
    "# import cupy as np\n",
    "\n",
    "from sklearn.model_selection import train_test_split\n",
    "\n",
    "from fromscratchtoml.toolbox.random import Distribution\n",
    "from fromscratchtoml.toolbox.preprocess import to_onehot\n"
   ]
  },
  {
   "cell_type": "code",
   "execution_count": 2,
   "metadata": {},
   "outputs": [],
   "source": [
    "from sklearn import datasets\n",
    "from sklearn.utils import shuffle\n",
    "\n",
    "from fromscratchtoml.toolbox import binary_visualize\n",
    "\n",
    "%matplotlib inline"
   ]
  },
  {
   "cell_type": "markdown",
   "metadata": {},
   "source": [
    "# Neural Networks"
   ]
  },
  {
   "cell_type": "markdown",
   "metadata": {},
   "source": [
    "## Fitting a XOR gate"
   ]
  },
  {
   "cell_type": "code",
   "execution_count": 3,
   "metadata": {},
   "outputs": [],
   "source": [
    "model1 = Sequential()\n",
    "\n",
    "model1.add(Dense(5, input_dim=2, kernel_regularizer=l2(0), seed=1))\n",
    "model1.add(Activation('sigmoid'))\n",
    "\n",
    "model1.add(Dense(10, kernel_regularizer=l2(0), seed=2))\n",
    "model1.add(Activation('sigmoid'))\n",
    "\n",
    "model1.add(Dense(2, kernel_regularizer=l2(0), seed=3))\n",
    "model1.add(Activation('sigmoid'))\n",
    "\n",
    "sgd = StochasticGradientDescent(learning_rate=0.01)\n",
    "model1.compile(optimizer=sgd, loss=\"mean_squared_error\")"
   ]
  },
  {
   "cell_type": "code",
   "execution_count": 4,
   "metadata": {},
   "outputs": [
    {
     "data": {
      "text/plain": [
       "array([[1, 0],\n",
       "       [0, 1],\n",
       "       [0, 1],\n",
       "       [1, 0]])"
      ]
     },
     "execution_count": 4,
     "metadata": {},
     "output_type": "execute_result"
    }
   ],
   "source": [
    "X1 = np.array([[0, 0],[0, 1],[1, 0], [1, 1]])\n",
    "y1 = np.array([[1,0], [0,1], [0,1], [1,0]])\n",
    "y1"
   ]
  },
  {
   "cell_type": "code",
   "execution_count": 5,
   "metadata": {},
   "outputs": [
    {
     "name": "stdout",
     "output_type": "stream",
     "text": [
      "[███████████████████████████████████████ ] 99% \n",
      "epoch: 500/500  acc: 50.00  loss: 0.251 \n",
      "[████████████████████████████████████████] 100% CPU times: user 522 ms, sys: 87.5 ms, total: 609 ms\n",
      "Wall time: 524 ms\n"
     ]
    }
   ],
   "source": [
    "%time model1.fit(X1, y1, batch_size=None, epochs=500)"
   ]
  },
  {
   "cell_type": "code",
   "execution_count": 6,
   "metadata": {
    "scrolled": true
   },
   "outputs": [
    {
     "data": {
      "text/plain": [
       "array([1, 1, 1, 1])"
      ]
     },
     "execution_count": 6,
     "metadata": {},
     "output_type": "execute_result"
    }
   ],
   "source": [
    "model1.predict(X1)"
   ]
  },
  {
   "cell_type": "code",
   "execution_count": 7,
   "metadata": {},
   "outputs": [
    {
     "data": {
      "text/plain": [
       "array([[0, 0],\n",
       "       [0, 1],\n",
       "       [1, 0],\n",
       "       [1, 1]])"
      ]
     },
     "execution_count": 7,
     "metadata": {},
     "output_type": "execute_result"
    }
   ],
   "source": [
    "X1"
   ]
  },
  {
   "cell_type": "code",
   "execution_count": 8,
   "metadata": {},
   "outputs": [
    {
     "data": {
      "image/png": "[encoded data removed]",
      "text/plain": [
       "<Figure size 432x288 with 1 Axes>"
      ]
     },
     "metadata": {},
     "output_type": "display_data"
    }
   ],
   "source": [
    "binary_visualize(X1, clf=model1, draw_contour=True)"
   ]
  },
  {
   "cell_type": "markdown",
   "metadata": {},
   "source": [
    "## MNIST Digit Classification"
   ]
  },
  {
   "cell_type": "code",
   "execution_count": 9,
   "metadata": {},
   "outputs": [
    {
     "name": "stdout",
     "output_type": "stream",
     "text": [
      "70000\n"
     ]
    }
   ],
   "source": [
    "from sklearn.datasets import fetch_mldata\n",
    "mnist = fetch_mldata('MNIST original', data_home=\".\")\n",
    "print(len(mnist.data))\n",
    "X2 = mnist.data/256.\n",
    "mnist.target.__class__\n",
    "y2 = to_onehot(mnist.target)"
   ]
  },
  {
   "cell_type": "code",
   "execution_count": 10,
   "metadata": {},
   "outputs": [
    {
     "data": {
      "text/plain": [
       "((60000, 784), (60000, 10), dtype('float64'))"
      ]
     },
     "execution_count": 10,
     "metadata": {},
     "output_type": "execute_result"
    }
   ],
   "source": [
    "X_train2, X_test2, y_train2, y_test2 = train_test_split(X2, y2, test_size=10000, random_state=42)\n",
    "X_train2.shape, y_train2.shape, X_train2.dtype"
   ]
  },
  {
   "cell_type": "code",
   "execution_count": 11,
   "metadata": {},
   "outputs": [],
   "source": [
    "model2 = Sequential(verbose=True,vis_acc=1)\n",
    "# model2.add(Dropout(0.2, seed=0))\n",
    "\n",
    "model2.add(Dense(30, input_dim=784, seed=1))\n",
    "model2.add(Activation('relu'))\n",
    "# model2.add(Dropout(0.2, seed=2))\n",
    "\n",
    "# model2.add(Dense(30))\n",
    "# model2.add(Activation('relu'))\n",
    "# model2.add(Dropout(0.2, seed=4))\n",
    "\n",
    "model2.add(Dense(10, seed=2))\n",
    "model2.add(Activation('softmax'))\n",
    "\n",
    "opt = StochasticGradientDescent(learning_rate=0.2, momentum=0., nesterov=1)\n",
    "opt = Adagrad(learning_rate=0.2)\n",
    "opt = RMSprop(learning_rate=0.001, decay=0.9)\n",
    "opt = Adam(learning_rate=0.001, bias_fix=0)\n",
    "model2.compile(optimizer=opt, loss=\"cross_entropy\")"
   ]
  },
  {
   "cell_type": "code",
   "execution_count": 12,
   "metadata": {
    "scrolled": true
   },
   "outputs": [
    {
     "name": "stdout",
     "output_type": "stream",
     "text": [
      "\n",
      "epoch: 1/10  acc: 93.12  loss: 0.416 \n",
      "[████                                    ] 10% \n",
      "epoch: 2/10  acc: 94.35  loss: 0.342 \n",
      "[████████                                ] 20% \n",
      "epoch: 3/10  acc: 95.03  loss: 0.301 \n",
      "[████████████                            ] 30% \n",
      "epoch: 4/10  acc: 95.54  loss: 0.271 \n",
      "[████████████████                        ] 40% \n",
      "epoch: 5/10  acc: 95.85  loss: 0.249 \n",
      "[████████████████████                    ] 50% \n",
      "epoch: 6/10  acc: 96.20  loss: 0.230 \n",
      "[████████████████████████                ] 60% \n",
      "epoch: 7/10  acc: 96.41  loss: 0.216 \n",
      "[████████████████████████████            ] 70% \n",
      "epoch: 8/10  acc: 96.65  loss: 0.205 \n",
      "[████████████████████████████████        ] 80% \n",
      "epoch: 9/10  acc: 96.79  loss: 0.195 \n",
      "[████████████████████████████████████    ] 90% \n",
      "epoch: 10/10  acc: 96.93  loss: 0.187 \n",
      "[████████████████████████████████████████] 100% "
     ]
    },
    {
     "data": {
      "image/png": "[encoded data removed]",
      "text/plain": [
       "<Figure size 432x288 with 1 Axes>"
      ]
     },
     "metadata": {},
     "output_type": "display_data"
    },
    {
     "name": "stdout",
     "output_type": "stream",
     "text": [
      "CPU times: user 39.6 s, sys: 32.7 s, total: 1min 12s\n",
      "Wall time: 9.94 s\n"
     ]
    }
   ],
   "source": [
    "%time model2.fit(X_train2, y_train2, batch_size=256, epochs=10)"
   ]
  },
  {
   "cell_type": "code",
   "execution_count": 13,
   "metadata": {},
   "outputs": [
    {
     "data": {
      "text/plain": [
       "95.83"
      ]
     },
     "execution_count": 13,
     "metadata": {},
     "output_type": "execute_result"
    }
   ],
   "source": [
    "model2.accuracy(X_test2, y_test2)"
   ]
  },
  {
   "cell_type": "code",
   "execution_count": 14,
   "metadata": {},
   "outputs": [
    {
     "ename": "SyntaxError",
     "evalue": "invalid syntax (<ipython-input-14-d83a0aae24c2>, line 1)",
     "output_type": "error",
     "traceback": [
      "\u001b[0;36m  File \u001b[0;32m\"<ipython-input-14-d83a0aae24c2>\"\u001b[0;36m, line \u001b[0;32m1\u001b[0m\n\u001b[0;31m    van = 96.25, 95.59 mom  96.86 95.44 nag 97.21  96.01 adagrad 95.39 94.41 rmsprop 96.02 94.66 ams 95.17 94.56\u001b[0m\n\u001b[0m                         ^\u001b[0m\n\u001b[0;31mSyntaxError\u001b[0m\u001b[0;31m:\u001b[0m invalid syntax\n"
     ]
    }
   ],
   "source": [
    "van = 96.25, 95.59 mom  96.86 95.44 nag 97.21  96.01 adagrad 95.39 94.41 rmsprop 96.02 94.66 ams 95.17 94.56"
   ]
  },
  {
   "cell_type": "code",
   "execution_count": null,
   "metadata": {},
   "outputs": [],
   "source": [
    "from keras.models import Sequential\n",
    "from keras.layers import Dense, Activation, Dropout\n",
    "from keras.optimizers import SGD\n",
    "from keras.losses import binary_crossentropy"
   ]
  },
  {
   "cell_type": "code",
   "execution_count": null,
   "metadata": {},
   "outputs": [],
   "source": [
    "model = Sequential()\n",
    "# model.add(Dropout(0.2))\n",
    "\n",
    "model.add(Dense(30, input_dim=784))\n",
    "model.add(Activation('sigmoid'))\n",
    "# model.add(Dropout(0.5))\n",
    "\n",
    "# model2.add(Dense(100, kernel_regularizer=l2(0), seed=None))\n",
    "# model2.add(Activation('sigmoid'))\n",
    "# model2.add(Dropout(0.2, seed=None))\n",
    "\n",
    "# model.add(Dense(30))\n",
    "# model.add(Activation('relu'))\n",
    "# model.add(Dropout(0.5))\n",
    "\n",
    "model.add(Dense(10))\n",
    "model.add(Activation('softmax'))\n",
    "\n",
    "model.compile(optimizer=SGD(lr=0.1), loss=binary_crossentropy, metrics=['accuracy'])"
   ]
  },
  {
   "cell_type": "code",
   "execution_count": null,
   "metadata": {},
   "outputs": [],
   "source": [
    "%time model.fit(X_train2, y_train2, batch_size=128, epochs=10)"
   ]
  },
  {
   "cell_type": "code",
   "execution_count": null,
   "metadata": {},
   "outputs": [],
   "source": [
    "model.evaluate(X_test2, y_test2, verbose = 0)"
   ]
  },
  {
   "cell_type": "code",
   "execution_count": null,
   "metadata": {},
   "outputs": [],
   "source": [
    "0.9692 0.9729"
   ]
  },
  {
   "cell_type": "markdown",
   "metadata": {},
   "source": [
    "## Training a single perceptron"
   ]
  },
  {
   "cell_type": "code",
   "execution_count": null,
   "metadata": {},
   "outputs": [],
   "source": [
    "model3 = Sequential()\n",
    "model3.add(Dense(1, input_dim=1, seed=10))\n",
    "model3.add(Activation('sigmoid'))\n",
    "sgd = StochasticGradientDescent(learning_rate=0.5)\n",
    "model3.compile(optimizer=sgd, loss=\"mean_squared_error\")"
   ]
  },
  {
   "cell_type": "code",
   "execution_count": null,
   "metadata": {},
   "outputs": [],
   "source": [
    "X3 = np.array([1])\n",
    "y3 = np.array([0.2])"
   ]
  },
  {
   "cell_type": "code",
   "execution_count": null,
   "metadata": {},
   "outputs": [],
   "source": [
    "%time model3.fit(X3, y3, epochs=200)"
   ]
  },
  {
   "cell_type": "code",
   "execution_count": null,
   "metadata": {},
   "outputs": [],
   "source": [
    "model3.forwardpass(X3)"
   ]
  },
  {
   "cell_type": "markdown",
   "metadata": {},
   "source": [
    "## Radial"
   ]
  },
  {
   "cell_type": "code",
   "execution_count": null,
   "metadata": {},
   "outputs": [],
   "source": [
    "X11 = Distribution.radial_binary(pts=300,\n",
    "               mean=[0, 0],\n",
    "               st=1,\n",
    "               ed=2, seed=20)\n",
    "X22 = Distribution.radial_binary(pts=300,\n",
    "               mean=[0, 0],\n",
    "               st=4,\n",
    "               ed=5, seed=20)\n",
    "\n",
    "Y11 = np.ones(X11.shape[0])\n",
    "Y22 = np.zeros(X11.shape[0])\n",
    "\n",
    "X5 = np.vstack((X11, X22))\n",
    "y5 = np.hstack((Y11, Y22))"
   ]
  },
  {
   "cell_type": "code",
   "execution_count": null,
   "metadata": {},
   "outputs": [],
   "source": []
  },
  {
   "cell_type": "code",
   "execution_count": null,
   "metadata": {},
   "outputs": [],
   "source": [
    "y5 = to_onehot(y5)"
   ]
  },
  {
   "cell_type": "code",
   "execution_count": null,
   "metadata": {},
   "outputs": [],
   "source": [
    "X_train5, X_test5, y_train5, y_test5 = train_test_split(X5, y5, test_size=50, random_state=42)"
   ]
  },
  {
   "cell_type": "code",
   "execution_count": null,
   "metadata": {},
   "outputs": [],
   "source": [
    "y_train5.shape"
   ]
  },
  {
   "cell_type": "code",
   "execution_count": null,
   "metadata": {},
   "outputs": [],
   "source": [
    "model5 = Sequential(verbose=1, vis_each_epoch=True)\n",
    "model5.add(Dense(10, input_dim=2, seed=1))\n",
    "model5.add(Activation('sigmoid'))\n",
    "model5.add(Dense(2, seed=2))\n",
    "model5.add(Activation('sigmoid'))\n",
    "model5.add(Dense(2, seed=3))\n",
    "model5.add(Activation('sigmoid'))\n",
    "sgd = StochasticGradientDescent(learning_rate=0.9)\n",
    "model5.compile(optimizer=sgd, loss=\"mean_squared_error\")"
   ]
  },
  {
   "cell_type": "code",
   "execution_count": null,
   "metadata": {},
   "outputs": [],
   "source": [
    "X_train5[0]"
   ]
  },
  {
   "cell_type": "code",
   "execution_count": null,
   "metadata": {
    "scrolled": true
   },
   "outputs": [],
   "source": [
    "%time model5.fit(X_train5, y_train5, batch_size=4, epochs=10)"
   ]
  },
  {
   "cell_type": "code",
   "execution_count": null,
   "metadata": {},
   "outputs": [],
   "source": [
    "binary_visualize(X_test5, clf=model5, draw_contour=True)"
   ]
  },
  {
   "cell_type": "code",
   "execution_count": null,
   "metadata": {},
   "outputs": [],
   "source": []
  },
  {
   "cell_type": "code",
   "execution_count": null,
   "metadata": {},
   "outputs": [],
   "source": []
  }
 ],
 "metadata": {
  "kernelspec": {
   "display_name": "fs2ml",
   "language": "python",
   "name": "env"
  },
  "language_info": {
   "codemirror_mode": {
    "name": "ipython",
    "version": 3
   },
   "file_extension": ".py",
   "mimetype": "text/x-python",
   "name": "python",
   "nbconvert_exporter": "python",
   "pygments_lexer": "ipython3",
   "version": "3.6.5"
  }
 },
 "nbformat": 4,
 "nbformat_minor": 2
}
