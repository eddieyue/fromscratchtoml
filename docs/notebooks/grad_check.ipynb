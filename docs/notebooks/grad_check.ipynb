{
 "cells": [
  {
   "cell_type": "markdown",
   "metadata": {},
   "source": [
    "## We are trying to win the wrong game."
   ]
  },
  {
   "cell_type": "code",
   "execution_count": 1,
   "metadata": {},
   "outputs": [],
   "source": [
    "def x_sq(x):\n",
    "    return x**2\n",
    "\n",
    "def x2(x):\n",
    "    return 2*x"
   ]
  },
  {
   "cell_type": "code",
   "execution_count": 2,
   "metadata": {},
   "outputs": [],
   "source": [
    "def num_grad(f, x, h=1e-8):\n",
    "    return (f(x+h) - f(x)) / h"
   ]
  },
  {
   "cell_type": "code",
   "execution_count": 3,
   "metadata": {},
   "outputs": [
    {
     "data": {
      "text/plain": [
       "(2, 0.002000009999999128)"
      ]
     },
     "execution_count": 3,
     "metadata": {},
     "output_type": "execute_result"
    }
   ],
   "source": [
    "x2(1), num_grad(x_sq, 0.001)"
   ]
  },
  {
   "cell_type": "code",
   "execution_count": null,
   "metadata": {},
   "outputs": [],
   "source": []
  },
  {
   "cell_type": "code",
   "execution_count": 4,
   "metadata": {},
   "outputs": [
    {
     "data": {
      "text/plain": [
       "0.01"
      ]
     },
     "execution_count": 4,
     "metadata": {},
     "output_type": "execute_result"
    }
   ],
   "source": [
    "1e-2"
   ]
  },
  {
   "cell_type": "code",
   "execution_count": null,
   "metadata": {},
   "outputs": [],
   "source": []
  },
  {
   "cell_type": "code",
   "execution_count": null,
   "metadata": {},
   "outputs": [],
   "source": []
  },
  {
   "cell_type": "code",
   "execution_count": null,
   "metadata": {},
   "outputs": [],
   "source": []
  },
  {
   "cell_type": "code",
   "execution_count": 5,
   "metadata": {},
   "outputs": [],
   "source": [
    "import fromscratchtoml\n",
    "fromscratchtoml.use(\"numpy\")\n",
    "# fromscratchtoml.use(\"cupy\")\n",
    "\n",
    "from fromscratchtoml.neural_network.models import Sequential\n",
    "from fromscratchtoml.neural_network.optimizers import StochasticGradientDescent\n",
    "from fromscratchtoml.neural_network.layers import Dense, Activation, Dropout\n",
    "from fromscratchtoml.neural_network.regularizers import l1, l2, l1_l2\n",
    "\n",
    "import numpy as np\n",
    "# import cupy as np\n",
    "\n",
    "from sklearn.model_selection import train_test_split\n",
    "\n",
    "from fromscratchtoml.toolbox.preprocess import to_onehot\n",
    "\n",
    "from sklearn import datasets\n",
    "from sklearn.utils import shuffle\n",
    "\n",
    "from fromscratchtoml.neural_network.losses import cross_entropy\n",
    "from copy import deepcopy\n",
    "\n",
    "%matplotlib inline"
   ]
  },
  {
   "cell_type": "code",
   "execution_count": 6,
   "metadata": {},
   "outputs": [
    {
     "name": "stdout",
     "output_type": "stream",
     "text": [
      "70000\n"
     ]
    }
   ],
   "source": [
    "from sklearn.datasets import fetch_mldata\n",
    "mnist = fetch_mldata('MNIST original', data_home=\".\")\n",
    "print(len(mnist.data))\n",
    "X2 = mnist.data/256.\n",
    "mnist.target.__class__\n",
    "y2 = to_onehot(mnist.target)"
   ]
  },
  {
   "cell_type": "code",
   "execution_count": 7,
   "metadata": {},
   "outputs": [
    {
     "data": {
      "text/plain": [
       "((60000, 784), (60000, 10), dtype('float64'))"
      ]
     },
     "execution_count": 7,
     "metadata": {},
     "output_type": "execute_result"
    }
   ],
   "source": [
    "X_train2, X_test2, y_train2, y_test2 = train_test_split(X2, y2, test_size=10000, random_state=42)\n",
    "X_train2.shape, y_train2.shape, X_train2.dtype"
   ]
  },
  {
   "cell_type": "code",
   "execution_count": 8,
   "metadata": {},
   "outputs": [],
   "source": [
    "# print(X_train2.shape)\n",
    "# X_train2 = np.expand_dims(X_train2[0], axis=1).T\n",
    "\n",
    "# y_train2 = np.expand_dims(y_train2[0], axis=1).T\n",
    "# X_train2.shape, y_train2.shape"
   ]
  },
  {
   "cell_type": "code",
   "execution_count": 9,
   "metadata": {},
   "outputs": [],
   "source": [
    "## START"
   ]
  },
  {
   "cell_type": "code",
   "execution_count": 10,
   "metadata": {},
   "outputs": [],
   "source": [
    "# get w\n",
    "layer = Dense(10, input_dim=784, seed=1)\n",
    "y = layer.forward(deepcopy(X_train2), train=True)\n",
    "w = layer.weights\n",
    "\n",
    "E = cross_entropy(deepcopy(y), deepcopy(y_train2))"
   ]
  },
  {
   "cell_type": "code",
   "execution_count": 11,
   "metadata": {},
   "outputs": [
    {
     "data": {
      "text/plain": [
       "array([[ 0.65387455, -0.92132293, -0.14418936, ..., -0.39259022,\n",
       "         0.01887856,  0.26064289],\n",
       "       [-0.49221186,  0.51193601,  0.40320363, ..., -0.41848881,\n",
       "        -0.11980319,  0.23718218],\n",
       "       [-0.30932009, -0.17743357, -0.30731297, ...,  0.10483389,\n",
       "         0.7422861 ,  0.33185224],\n",
       "       ...,\n",
       "       [ 0.48671913, -0.08406576, -0.44510272, ...,  0.00370278,\n",
       "        -0.63047716, -0.40293975],\n",
       "       [ 0.29035899, -0.39472819,  0.39954523, ...,  0.28816253,\n",
       "        -0.68040612, -0.11703643],\n",
       "       [-0.44562584, -0.48717856,  0.05977087, ...,  0.37613845,\n",
       "        -0.15007702,  0.21746986]])"
      ]
     },
     "execution_count": 11,
     "metadata": {},
     "output_type": "execute_result"
    }
   ],
   "source": [
    "w"
   ]
  },
  {
   "cell_type": "code",
   "execution_count": 12,
   "metadata": {},
   "outputs": [],
   "source": [
    "# get w+\n",
    "h = 1e-7\n",
    "layer = Dense(10, input_dim=784, seed=1)\n",
    "\n",
    "layer.weights = w + h\n",
    "yp = layer.forward(deepcopy(X_train2))\n",
    "Ep = cross_entropy(deepcopy(yp), deepcopy(y_train2))"
   ]
  },
  {
   "cell_type": "code",
   "execution_count": 13,
   "metadata": {},
   "outputs": [],
   "source": [
    "# get w-\n",
    "layer = Dense(10, input_dim=784, seed=1)\n",
    "\n",
    "layer.weights = w - h\n",
    "yn = layer.forward(deepcopy(X_train2))\n",
    "\n",
    "En = cross_entropy(deepcopy(yn), deepcopy(y_train2))"
   ]
  },
  {
   "cell_type": "code",
   "execution_count": 14,
   "metadata": {},
   "outputs": [],
   "source": [
    "dEdy = (Ep - En) / ( 2. * h)\n",
    "# dEdW = dydW * dEdy\n",
    "dEdW = dEdy\n",
    "dEdW = np.dot(dEdy.T, X_train2).T"
   ]
  },
  {
   "cell_type": "code",
   "execution_count": 15,
   "metadata": {},
   "outputs": [
    {
     "data": {
      "text/plain": [
       "(array([[0., 0., 0., ..., 0., 0., 0.],\n",
       "        [0., 0., 0., ..., 0., 0., 0.],\n",
       "        [0., 0., 0., ..., 0., 0., 0.],\n",
       "        ...,\n",
       "        [0., 0., 0., ..., 0., 0., 0.],\n",
       "        [0., 0., 0., ..., 0., 0., 0.],\n",
       "        [0., 0., 0., ..., 0., 0., 0.]]), (784, 10), (784, 10))"
      ]
     },
     "execution_count": 15,
     "metadata": {},
     "output_type": "execute_result"
    }
   ],
   "source": [
    "dEdW, dEdW.shape, w.shape"
   ]
  },
  {
   "cell_type": "code",
   "execution_count": 16,
   "metadata": {},
   "outputs": [],
   "source": [
    "# analytical dEdW\n",
    "layer = Dense(10, input_dim=784, seed=1)\n",
    "\n",
    "layer.weights = w\n",
    "y_ = layer.forward(deepcopy(X_train2))\n",
    "E_, dEdO_ = cross_entropy(deepcopy(y_), deepcopy(y_train2), return_deriv=True)\n",
    "\n",
    "layer.back_propogate(deepcopy(dEdO_))\n",
    "dEdW_ = layer.dEdW"
   ]
  },
  {
   "cell_type": "code",
   "execution_count": 17,
   "metadata": {},
   "outputs": [
    {
     "data": {
      "text/plain": [
       "283688923586.65063"
      ]
     },
     "execution_count": 17,
     "metadata": {},
     "output_type": "execute_result"
    }
   ],
   "source": [
    "np.sum(dEdW_)"
   ]
  },
  {
   "cell_type": "code",
   "execution_count": 18,
   "metadata": {},
   "outputs": [
    {
     "data": {
      "text/plain": [
       "(784, 10)"
      ]
     },
     "execution_count": 18,
     "metadata": {},
     "output_type": "execute_result"
    }
   ],
   "source": [
    "dEdW_.shape"
   ]
  },
  {
   "cell_type": "code",
   "execution_count": 19,
   "metadata": {},
   "outputs": [],
   "source": [
    "relative_error = np.linalg.norm(dEdW - dEdW_)/ (np.linalg.norm(dEdW) + np.linalg.norm(dEdW_))"
   ]
  },
  {
   "cell_type": "code",
   "execution_count": 20,
   "metadata": {},
   "outputs": [
    {
     "data": {
      "text/plain": [
       "0.9999983447295429"
      ]
     },
     "execution_count": 20,
     "metadata": {},
     "output_type": "execute_result"
    }
   ],
   "source": [
    "relative_error"
   ]
  },
  {
   "cell_type": "code",
   "execution_count": 24,
   "metadata": {},
   "outputs": [
    {
     "data": {
      "text/plain": [
       "array([[ 0.65387455, -0.92132293, -0.14418936, ..., -0.39259022,\n",
       "         0.01887856,  0.26064289],\n",
       "       [-0.49221186,  0.51193601,  0.40320363, ..., -0.41848881,\n",
       "        -0.11980319,  0.23718218],\n",
       "       [-0.30932009, -0.17743357, -0.30731297, ...,  0.10483389,\n",
       "         0.7422861 ,  0.33185224],\n",
       "       ...,\n",
       "       [ 0.48671913, -0.08406576, -0.44510272, ...,  0.00370278,\n",
       "        -0.63047716, -0.40293975],\n",
       "       [ 0.29035899, -0.39472819,  0.39954523, ...,  0.28816253,\n",
       "        -0.68040612, -0.11703643],\n",
       "       [-0.44562584, -0.48717856,  0.05977087, ...,  0.37613845,\n",
       "        -0.15007702,  0.21746986]])"
      ]
     },
     "execution_count": 24,
     "metadata": {},
     "output_type": "execute_result"
    }
   ],
   "source": [
    "w"
   ]
  },
  {
   "cell_type": "code",
   "execution_count": null,
   "metadata": {},
   "outputs": [],
   "source": []
  },
  {
   "cell_type": "code",
   "execution_count": null,
   "metadata": {},
   "outputs": [],
   "source": []
  }
 ],
 "metadata": {
  "kernelspec": {
   "display_name": "fs2ml",
   "language": "python",
   "name": "env"
  },
  "language_info": {
   "codemirror_mode": {
    "name": "ipython",
    "version": 3
   },
   "file_extension": ".py",
   "mimetype": "text/x-python",
   "name": "python",
   "nbconvert_exporter": "python",
   "pygments_lexer": "ipython3",
   "version": "3.6.5"
  }
 },
 "nbformat": 4,
 "nbformat_minor": 2
}
